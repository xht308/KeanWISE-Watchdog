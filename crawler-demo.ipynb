{
 "cells": [
  {
   "cell_type": "markdown",
   "metadata": {},
   "source": [
    "# KeanWISE Watchdog - Crawler Demo\n",
    "This is a **interactive demo** of the **web crawler** part of the project. The following code mainly solves the problem of `logging in KeanWISE`, `request http interface`, and `securely logging out the system`."
   ]
  },
  {
   "cell_type": "code",
   "execution_count": null,
   "metadata": {},
   "outputs": [],
   "source": [
    "UserName = None\n",
    "Password = None"
   ]
  },
  {
   "cell_type": "markdown",
   "metadata": {},
   "source": [
    "## Prepare Environment"
   ]
  },
  {
   "cell_type": "code",
   "execution_count": 1,
   "metadata": {},
   "outputs": [],
   "source": [
    "# Import libraries\n",
    "import requests\n",
    "import warnings\n",
    "from bs4 import BeautifulSoup"
   ]
  },
  {
   "cell_type": "code",
   "execution_count": 2,
   "metadata": {},
   "outputs": [],
   "source": [
    "# Disable SSL verification\n",
    "# Used with verify=False\n",
    "# Need to be solved: KeanWISE will cause SSL error when accessed by requests lib\n",
    "import urllib3\n",
    "# urllib3.disable_warnings()"
   ]
  },
  {
   "cell_type": "code",
   "execution_count": 3,
   "metadata": {},
   "outputs": [],
   "source": [
    "# Urls\n",
    "host = 'selfservice.kean.edu'\n",
    "origin = 'https://{}'.format(host)\n",
    "student_url = '{}/Student'.format(origin)\n",
    "login_url = '{}/Account/Login'.format(student_url)\n",
    "logoff_url = '{}/Account/LogOff'.format(student_url)\n",
    "planning_url = '{}/Planning'.format(student_url)\n",
    "degree_plans_url = '{}/DegreePlans'.format(planning_url)\n",
    "\n",
    "# The basic headers\n",
    "basic_headers = {\n",
    "    'User-Agent': 'Mozilla/5.0 (Windows NT 10.0; Win64; x64) AppleWebKit/537.36 (KHTML, like Gecko) Chrome/104.0.5112.102 Safari/537.36 Edg/104.0.1293.63',\n",
    "    'Accept': 'text/html,application/xhtml+xml,application/xml;q=0.9,image/webp,image/apng,*/*;q=0.8,application/signed-exchange;v=b3;q=0.9',\n",
    "    'Accept-Language': 'zh-CN,zh;q=0.9,en;q=0.8,en-GB;q=0.7,en-US;q=0.6',\n",
    "}"
   ]
  },
  {
   "cell_type": "markdown",
   "metadata": {},
   "source": [
    "## Logging in KeanWISE"
   ]
  },
  {
   "cell_type": "code",
   "execution_count": 4,
   "metadata": {},
   "outputs": [],
   "source": [
    "def check_status_code(code:int|requests.Response, expection:int|list[int]=200, msg:str='Status code checking failed!', raise_exception:bool=True):\n",
    "    # Get status code\n",
    "    if isinstance(code, requests.Response): code = code.status_code\n",
    "    # Check\n",
    "    if isinstance(expection, list):\n",
    "        if code not in expection: \n",
    "            if raise_exception:\n",
    "                raise Exception('{} Status code: {}'.format(msg, code))\n",
    "            else:\n",
    "                return False\n",
    "    else:\n",
    "        if code != expection: \n",
    "            if raise_exception:\n",
    "                raise Exception('{} Status code: {}'.format(msg, code))\n",
    "            else:\n",
    "                return False\n",
    "    return True\n",
    "\n",
    "# Extract the request verification token from the page source code\n",
    "# Used to pass the CSRF verification\n",
    "def get_request_verification_token(content:str|requests.Response, index:int=None):\n",
    "    # get Response --> extract HTML doc\n",
    "    if isinstance(content, requests.Response): content = content.content\n",
    "    # Parse content as HTML doc\n",
    "    soup = BeautifulSoup(content, 'lxml')\n",
    "    token_attrs = {\n",
    "        'name': '__RequestVerificationToken',\n",
    "        'value': True\n",
    "    }\n",
    "    tokens = soup.find_all('input', attrs=token_attrs, recursive=True)\n",
    "    if len(tokens) == 0: \n",
    "        warnings.warn('Found no request verification tokens')\n",
    "        return None\n",
    "    # Extract tokens\n",
    "    tokens = [token['value'] for token in tokens]\n",
    "    # Return tokens\n",
    "    if index is None: return tokens if len(tokens) != 1 else tokens[0]\n",
    "    else: return tokens[index]\n",
    "\n",
    "# Perform the logging in action\n",
    "# The foundation of all other functions\n",
    "def get_logged_session(UserName:str=UserName, Password:str=Password, login_url:str=login_url, headers:dict[str:str]=basic_headers, returnUrl:str='', performSamlLogin:str=''):\n",
    "    # Create a new requests session\n",
    "    # KeanWISE uses cookies to verify user authorization\n",
    "    req_session = requests.Session()\n",
    "    req_session.verify = False\n",
    "    # Request the login page to get Request Verification Token\n",
    "    res = req_session.get(login_url, headers=headers)\n",
    "    check_status_code(res, 200, msg='Request login page failed!')\n",
    "    # Login request:\n",
    "    #   type: POST\n",
    "    #   fields: {__RequestVerificationToken, returnUrl, performSamlLogin, UserName, Password}\n",
    "    data = {\n",
    "        '__RequestVerificationToken': get_request_verification_token(res, index=-1),\n",
    "        'returnUrl': returnUrl,\n",
    "        'performSamlLogin': performSamlLogin,\n",
    "        'UserName': UserName,\n",
    "        'PassWord': Password,\n",
    "    }\n",
    "    # Request the login interface\n",
    "    res = req_session.post(login_url, data=data, headers=headers)\n",
    "    check_status_code(res, 200, msg='Request login interface failed!')\n",
    "    if res.url == login_url: raise Exception('Login Failed! Wrong user name or password.')\n",
    "    # Return the logged in session and page\n",
    "    return (req_session, res)"
   ]
  },
  {
   "cell_type": "code",
   "execution_count": 5,
   "metadata": {},
   "outputs": [],
   "source": [
    "def generate_headers(response:requests.Response=None, Host:bool|str=True, Origin:bool|str=True, Referer:bool|str=True, XHR:bool=False, token:bool|str=False):\n",
    "    # Use the basic headers as the base\n",
    "    headers = basic_headers.copy()\n",
    "    # Add elements to headers\n",
    "    if Host != False:\n",
    "        headers['Host'] = Host if isinstance(Host, str) else host\n",
    "    if Origin != False:\n",
    "        headers['Origin'] = Origin if isinstance(Origin, str) else origin\n",
    "    if XHR: headers['X-Requested-With'] = 'XMLHttpRequest'\n",
    "    if Referer != False:\n",
    "        if isinstance(Referer, str): headers['Referer'] = Referer\n",
    "        elif Referer and response is not None: headers['Referer'] = response.url\n",
    "        else: warnings.warn('Unable to generate referer')\n",
    "    if token != False:\n",
    "        if isinstance(token, str): headers['__RequestVerificationToken'] = token\n",
    "        elif token and response is not None: headers['__RequestVerificationToken'] = get_request_verification_token(response, 0)\n",
    "        else: warnings.warn('Unable to generate __RequestVerificationToken')\n",
    "    # Return headers\n",
    "    return headers\n",
    "\n",
    "# Control the session to log off\n",
    "# Prevent the possible multi-logging problem\n",
    "def session_log_off(session:requests.Session, last_response:requests.Response, logoff_url:str=logoff_url):\n",
    "    pass"
   ]
  },
  {
   "cell_type": "code",
   "execution_count": 6,
   "metadata": {},
   "outputs": [
    {
     "name": "stderr",
     "output_type": "stream",
     "text": [
      "c:\\Users\\xht30\\AppData\\Local\\Programs\\Python\\Python310\\lib\\site-packages\\urllib3\\connectionpool.py:981: InsecureRequestWarning: Unverified HTTPS request is being made to host 'selfservice.kean.edu'. Adding certificate verification is strongly advised. See: https://urllib3.readthedocs.io/en/latest/advanced-usage.html#ssl-warnings\n",
      "  warnings.warn(\n",
      "c:\\Users\\xht30\\AppData\\Local\\Programs\\Python\\Python310\\lib\\site-packages\\urllib3\\connectionpool.py:981: InsecureRequestWarning: Unverified HTTPS request is being made to host 'selfservice.kean.edu'. Adding certificate verification is strongly advised. See: https://urllib3.readthedocs.io/en/latest/advanced-usage.html#ssl-warnings\n",
      "  warnings.warn(\n"
     ]
    }
   ],
   "source": [
    "req_session, res = get_logged_session()"
   ]
  },
  {
   "cell_type": "code",
   "execution_count": 7,
   "metadata": {},
   "outputs": [
    {
     "data": {
      "text/plain": [
       "['8K63dPkA5LIRmPfYVorNQV3zUf0vgJ4gQXQgT_qphbvjTGJPWD9wHR6PIMKC84GMo0K8mEAp4ot05itwwgdfZQHsfu22nrtcLfPai8PJtpk1',\n",
       " 'sDKmVCAmCiSOiBEYCDwazV-0tQEfRjV4sIQlR2pNYm5DFPbUsmNMDWAV0sIMc2yzCGg-29to7mpbLkqjICByPbqKo5lL8qwyfqvmUNu7QTM1']"
      ]
     },
     "execution_count": 7,
     "metadata": {},
     "output_type": "execute_result"
    }
   ],
   "source": [
    "get_request_verification_token(res)"
   ]
  },
  {
   "cell_type": "code",
   "execution_count": 8,
   "metadata": {},
   "outputs": [
    {
     "data": {
      "text/plain": [
       "'https://selfservice.kean.edu/Student/Account/Login'"
      ]
     },
     "execution_count": 8,
     "metadata": {},
     "output_type": "execute_result"
    }
   ],
   "source": [
    "res.url"
   ]
  }
 ],
 "metadata": {
  "kernelspec": {
   "display_name": "Python 3.10.4 64-bit",
   "language": "python",
   "name": "python3"
  },
  "language_info": {
   "codemirror_mode": {
    "name": "ipython",
    "version": 3
   },
   "file_extension": ".py",
   "mimetype": "text/x-python",
   "name": "python",
   "nbconvert_exporter": "python",
   "pygments_lexer": "ipython3",
   "version": "3.10.4"
  },
  "orig_nbformat": 4,
  "vscode": {
   "interpreter": {
    "hash": "048411921336b168c51522b0967794cf9390636b403427f5182f32563c6c9adb"
   }
  }
 },
 "nbformat": 4,
 "nbformat_minor": 2
}
