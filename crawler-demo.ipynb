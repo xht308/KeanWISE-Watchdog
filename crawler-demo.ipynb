{
 "cells": [
  {
   "cell_type": "markdown",
   "metadata": {},
   "source": [
    "# KeanWISE Watchdog - Crawler Demo\n",
    "This is a **interactive demo** of the **web crawler** part of the project.  \n",
    "The following code mainly solves the problem of `logging in KeanWISE`, `request http interface`, and `securely logging off the system`."
   ]
  },
  {
   "cell_type": "markdown",
   "metadata": {},
   "source": [
    "## KeanWISE Account\n",
    "Please enter an available KeanWISE account in the cell below to run the demo."
   ]
  },
  {
   "cell_type": "code",
   "execution_count": 22,
   "metadata": {},
   "outputs": [],
   "source": [
    "UserName = ''\n",
    "Password = ''\n",
    "student_id = None   # Optional for querying section details\n",
    "section_id = ''"
   ]
  },
  {
   "cell_type": "code",
   "execution_count": 23,
   "metadata": {},
   "outputs": [],
   "source": [
    "import os\n",
    "import json\n",
    "\n",
    "# If config file exists -> Load configuration from json file\n",
    "file_path = 'demo_config.json'\n",
    "if os.path.exists(file_path):\n",
    "    with open(file_path, 'r') as config_file:\n",
    "        config_dict = json.load(config_file)\n",
    "        UserName = config_dict['UserName']\n",
    "        Password = config_dict['Password']\n",
    "        student_id = config_dict['student_id']\n",
    "        section_id = config_dict['section_id']"
   ]
  },
  {
   "cell_type": "markdown",
   "metadata": {},
   "source": [
    "## Prepare Environment\n",
    "Import the used libraries and set the default values."
   ]
  },
  {
   "cell_type": "code",
   "execution_count": 25,
   "metadata": {},
   "outputs": [],
   "source": [
    "# Import libraries\n",
    "import requests\n",
    "import warnings\n",
    "from bs4 import BeautifulSoup"
   ]
  },
  {
   "cell_type": "code",
   "execution_count": 26,
   "metadata": {},
   "outputs": [],
   "source": [
    "# Disable SSL verification\n",
    "# Used with verify=False\n",
    "# Need to be solved: KeanWISE will cause SSL error when accessed by requests lib\n",
    "import urllib3\n",
    "# urllib3.disable_warnings()"
   ]
  },
  {
   "cell_type": "code",
   "execution_count": 27,
   "metadata": {},
   "outputs": [],
   "source": [
    "# Urls\n",
    "host = 'selfservice.kean.edu'\n",
    "origin = 'https://{}'.format(host)\n",
    "student_url = '{}/Student'.format(origin)\n",
    "login_url = '{}/Account/Login'.format(student_url)\n",
    "logoff_url = '{}/Account/LogOff'.format(student_url)\n",
    "planning_url = '{}/Planning'.format(student_url)\n",
    "degree_plans_url = '{}/DegreePlans'.format(planning_url)\n",
    "section_details_url = '{}/Student/Courses/SectionDetails'.format(student_url)\n",
    "\n",
    "# The basic headers\n",
    "basic_headers = {\n",
    "    'User-Agent': 'Mozilla/5.0 (Windows NT 10.0; Win64; x64) AppleWebKit/537.36 (KHTML, like Gecko) Chrome/104.0.5112.102 Safari/537.36 Edg/104.0.1293.63',\n",
    "    'Accept': 'text/html,application/xhtml+xml,application/xml;q=0.9,image/webp,image/apng,*/*;q=0.8,application/signed-exchange;v=b3;q=0.9',\n",
    "    'Accept-Language': 'zh-CN,zh;q=0.9,en;q=0.8,en-GB;q=0.7,en-US;q=0.6',\n",
    "}"
   ]
  },
  {
   "cell_type": "markdown",
   "metadata": {},
   "source": [
    "## Logging in KeanWISE\n",
    "Perform the logging in action to get the session logged in."
   ]
  },
  {
   "cell_type": "code",
   "execution_count": 28,
   "metadata": {},
   "outputs": [],
   "source": [
    "def check_status_code(code:int|requests.Response, expectation:int|list[int]=200, msg:str='Status code checking failed!', raise_exception:bool=True) -> bool:\n",
    "    # Get status code\n",
    "    if isinstance(code, requests.Response): code = code.status_code\n",
    "    # Prepare message\n",
    "    msg = '{} Status code: {}'.format(msg, code)\n",
    "    # Check\n",
    "    if isinstance(expectation, list):\n",
    "        if code not in expectation: \n",
    "            if raise_exception:\n",
    "                raise Exception(msg)\n",
    "            else:\n",
    "                warnings.warn(msg)\n",
    "                return False\n",
    "    else:\n",
    "        if code != expectation: \n",
    "            if raise_exception:\n",
    "                raise Exception(msg)\n",
    "            else:\n",
    "                warnings.warn(msg)\n",
    "                return False\n",
    "    return True\n",
    "\n",
    "# Extract the request verification token from the page source code\n",
    "# Used to pass the CSRF verification\n",
    "def get_request_verification_token(content:str|requests.Response, index:int=None) -> str|list[str]:\n",
    "    # get Response --> extract HTML doc\n",
    "    if isinstance(content, requests.Response): content = content.content\n",
    "    # Parse content as HTML doc\n",
    "    soup = BeautifulSoup(content, 'lxml')\n",
    "    token_attrs = {\n",
    "        'name': '__RequestVerificationToken',\n",
    "        'value': True\n",
    "    }\n",
    "    tokens = soup.find_all('input', attrs=token_attrs, recursive=True)\n",
    "    if len(tokens) == 0: \n",
    "        warnings.warn('Found no request verification tokens')\n",
    "        return None\n",
    "    # Extract tokens\n",
    "    tokens = [token['value'] for token in tokens]\n",
    "    # Return tokens\n",
    "    if index is None: return tokens if len(tokens) != 1 else tokens[0]\n",
    "    else: return tokens[index]\n",
    "\n",
    "# Perform the logging in action\n",
    "# The foundation of all other functions\n",
    "def get_logged_in_session(UserName:str=UserName, Password:str=Password, login_url:str=login_url, headers:dict[str:str]=basic_headers, returnUrl:str='', performSamlLogin:str='') -> tuple[requests.Session, requests.Response]:\n",
    "    # Create a new requests session\n",
    "    # KeanWISE uses cookies to verify user authorization\n",
    "    req_session = requests.Session()\n",
    "    req_session.verify = False\n",
    "    # Request the login page to get Request Verification Token\n",
    "    res = req_session.get(login_url, headers=headers)\n",
    "    check_status_code(res, 200, msg='Request login page failed!')\n",
    "    # Login request:\n",
    "    #   type: POST\n",
    "    #   fields: {__RequestVerificationToken, returnUrl, performSamlLogin, UserName, Password}\n",
    "    data = {\n",
    "        '__RequestVerificationToken': get_request_verification_token(res, index=-1),\n",
    "        'returnUrl': returnUrl,\n",
    "        'performSamlLogin': performSamlLogin,\n",
    "        'UserName': UserName,\n",
    "        'PassWord': Password,\n",
    "    }\n",
    "    # Request the login interface\n",
    "    res = req_session.post(login_url, data=data, headers=headers)\n",
    "    check_status_code(res, 200, msg='Request login interface failed!')\n",
    "    if res.url == login_url: raise Exception('Login Failed! Wrong user name or password.')\n",
    "    # Return the logged in session and page\n",
    "    return (req_session, res)"
   ]
  },
  {
   "cell_type": "code",
   "execution_count": 29,
   "metadata": {},
   "outputs": [
    {
     "name": "stderr",
     "output_type": "stream",
     "text": [
      "c:\\Users\\xht30\\AppData\\Local\\Programs\\Python\\Python310\\lib\\site-packages\\urllib3\\connectionpool.py:981: InsecureRequestWarning: Unverified HTTPS request is being made to host 'selfservice.kean.edu'. Adding certificate verification is strongly advised. See: https://urllib3.readthedocs.io/en/latest/advanced-usage.html#ssl-warnings\n",
      "  warnings.warn(\n",
      "c:\\Users\\xht30\\AppData\\Local\\Programs\\Python\\Python310\\lib\\site-packages\\urllib3\\connectionpool.py:981: InsecureRequestWarning: Unverified HTTPS request is being made to host 'selfservice.kean.edu'. Adding certificate verification is strongly advised. See: https://urllib3.readthedocs.io/en/latest/advanced-usage.html#ssl-warnings\n",
      "  warnings.warn(\n",
      "c:\\Users\\xht30\\AppData\\Local\\Programs\\Python\\Python310\\lib\\site-packages\\urllib3\\connectionpool.py:981: InsecureRequestWarning: Unverified HTTPS request is being made to host 'selfservice.kean.edu'. Adding certificate verification is strongly advised. See: https://urllib3.readthedocs.io/en/latest/advanced-usage.html#ssl-warnings\n",
      "  warnings.warn(\n"
     ]
    }
   ],
   "source": [
    "req_session, res = get_logged_in_session()"
   ]
  },
  {
   "cell_type": "markdown",
   "metadata": {},
   "source": [
    "## Get the section information\n",
    "Invoke the KeanWISE web API to get the course information."
   ]
  },
  {
   "cell_type": "code",
   "execution_count": 30,
   "metadata": {},
   "outputs": [],
   "source": [
    "# Helper method: Generate the headers for different occasions\n",
    "def generate_headers(response:requests.Response=None, Host:bool|str=True, Origin:bool|str=True, Referer:bool|str=True, XHR:bool=False, token:bool|str=False) -> dict[str: str]:\n",
    "    # Use the basic headers as the base\n",
    "    headers = basic_headers.copy()\n",
    "    # Add elements to headers\n",
    "    if Host != False:\n",
    "        headers['Host'] = Host if isinstance(Host, str) else host\n",
    "    if Origin != False:\n",
    "        headers['Origin'] = Origin if isinstance(Origin, str) else origin\n",
    "    if XHR: headers['X-Requested-With'] = 'XMLHttpRequest'\n",
    "    if Referer != False:\n",
    "        if isinstance(Referer, str): headers['Referer'] = Referer\n",
    "        elif Referer and response is not None: headers['Referer'] = response.url\n",
    "        else: warnings.warn('Unable to generate referer')\n",
    "    if token != False:\n",
    "        if isinstance(token, str): headers['__RequestVerificationToken'] = token\n",
    "        elif token and response is not None: headers['__RequestVerificationToken'] = get_request_verification_token(response, 0)\n",
    "        else: warnings.warn('Unable to generate __RequestVerificationToken')\n",
    "    # Return headers\n",
    "    return headers"
   ]
  },
  {
   "cell_type": "code",
   "execution_count": 31,
   "metadata": {},
   "outputs": [],
   "source": [
    "# Request the KeanWISE section details API to query the course details\n",
    "def get_section_details(session:requests.Session, last_response:requests.Session, section_id:str|int=section_id, student_id:str|int=student_id, url:str=section_details_url, return_json:bool=True) -> dict[str: str]|requests.Response:\n",
    "    # Generate request headers\n",
    "    headers = generate_headers(last_response, Host=True, Origin=True, Referer=True, XHR=True, token=True)\n",
    "    # Constuct request json dict\n",
    "    json_data = {\n",
    "        'sectionId': section_id if not isinstance(section_id, int) else str(section_id),\n",
    "        'studentId': student_id if not isinstance(student_id, int) else str(student_id),\n",
    "    }\n",
    "    # Send query request\n",
    "    #   type: POST (XHR)\n",
    "    #   fields: {sectionId, studentId} (as json)\n",
    "    res = session.post(url, headers=headers, json=json_data)\n",
    "    # Check response\n",
    "    check_status_code(res, 200, msg='Query section details ({}) failed!'.format(section_id))\n",
    "    # Return section details as json or query response\n",
    "    return res.json() if return_json else res"
   ]
  },
  {
   "cell_type": "code",
   "execution_count": 32,
   "metadata": {},
   "outputs": [
    {
     "name": "stderr",
     "output_type": "stream",
     "text": [
      "c:\\Users\\xht30\\AppData\\Local\\Programs\\Python\\Python310\\lib\\site-packages\\urllib3\\connectionpool.py:981: InsecureRequestWarning: Unverified HTTPS request is being made to host 'selfservice.kean.edu'. Adding certificate verification is strongly advised. See: https://urllib3.readthedocs.io/en/latest/advanced-usage.html#ssl-warnings\n",
      "  warnings.warn(\n"
     ]
    },
    {
     "data": {
      "text/plain": [
       "{'RequisiteItems': [{'DisplayText': 'Prerequisite(s): CPS 2232',\n",
       "   'DisplayTextExtension': '- Must be completed prior to taking this course.',\n",
       "   'RequisiteId': '12920',\n",
       "   'IsRequired': True,\n",
       "   'ReferencesInvalidCourseOrSection': False}],\n",
       " 'TimeLocationItems': [{'Time': 'M, W 8:30 AM - 9:45 AM',\n",
       "   'Location': ' WENZHOU-KEAN UNIVERSITY, WKU Gehekai Hall B209 (Lecture)',\n",
       "   'Dates': '8/29/2022 - 12/16/2022'}],\n",
       " 'InstructorItems': [{'Name': 'Dib, O',\n",
       "   'EmailAddresses': ['odib@kean.edu'],\n",
       "   'PhoneNumbers': []}],\n",
       " 'InstructorOfficeHours': [],\n",
       " 'BooksCostRequired': None,\n",
       " 'BooksCostOptional': None,\n",
       " 'BookList': None,\n",
       " 'ShowBookList': True,\n",
       " 'BooksTotal': '',\n",
       " 'TermDisplay': 'Fall 2022 Wenzhou',\n",
       " 'DatesDisplay': '8/29/2022 - 12/16/2022',\n",
       " 'PassNoPassIsRestricted': False,\n",
       " 'AuditIsRestricted': True,\n",
       " 'GradingOptionsMatch': True,\n",
       " 'TransferStatusDescription': '',\n",
       " 'TopicCodeDescription': None,\n",
       " 'Charges': [],\n",
       " 'HasRuleBasedCharges': False,\n",
       " 'ShowInstantEnrollmentBookstoreLink': False,\n",
       " 'Id': '242619',\n",
       " 'CourseId': 'CPS_3440',\n",
       " 'TermId': '22/FAWZ',\n",
       " 'StartDate': '/Date(1661745600000)/',\n",
       " 'EndDate': '/Date(1671166800000)/',\n",
       " 'Number': 'W02',\n",
       " 'CourseName': 'CPS*3440',\n",
       " 'MinimumCredits': 3.0,\n",
       " 'MaximumCredits': None,\n",
       " 'VariableCreditIncrement': None,\n",
       " 'Ceus': None,\n",
       " 'Title': 'ANALYSIS OF ALGORITHMS',\n",
       " 'Location': 'W',\n",
       " 'Meetings': [{'InstructionalMethodCode': 'LEC',\n",
       "   'StartTime': '/Date(1661689800000)/',\n",
       "   'EndTime': '/Date(1661694300000)/',\n",
       "   'Days': [1, 3],\n",
       "   'Room': 'GHKH*B209',\n",
       "   'StartDate': '/Date(1661745600000)/',\n",
       "   'EndDate': '/Date(1671166800000)/',\n",
       "   'Frequency': 'W',\n",
       "   'IsOnline': False}],\n",
       " 'PrimarySectionMeetings': [],\n",
       " 'FacultyIds': [],\n",
       " 'Books': [],\n",
       " 'ActiveStudentIds': [],\n",
       " 'LearningProvider': '',\n",
       " 'LearningProviderSiteId': None,\n",
       " 'PrimarySectionId': None,\n",
       " 'AllowPassNoPass': False,\n",
       " 'AllowAudit': True,\n",
       " 'OnlyPassNoPass': False,\n",
       " 'Capacity': 24,\n",
       " 'Available': 0,\n",
       " 'WaitlistAvailable': False,\n",
       " 'IsActive': True,\n",
       " 'Waitlisted': 0,\n",
       " 'WaitlistMaximum': 0,\n",
       " 'AllowWaitlist': False,\n",
       " 'OverridesCourseRequisites': False,\n",
       " 'Requisites': [],\n",
       " 'SectionRequisites': [],\n",
       " 'AcademicLevelCode': 'UG',\n",
       " 'BookstoreUrl': 'https://kean.bncollege.com/webapp/wcs/stores/servlet/TBListView?cm_mmc=RI-_-732-_-1-_-A&catalogId=10001&storeId=24559&langId=-1&termMapping=Y&courseXml=<?xml version=\"1.0\" encoding=\"UTF-8\"?><textbookorder> <courses><course dept=\"CPS\" num=\"3440\" sect=\"W02\" term=\"22%2fFAWZ\"/></courses></textbookorder>',\n",
       " 'Comments': 'WENZHOU KEAN STUDENTS ONLY. Computer Science students only.',\n",
       " 'TransferStatus': '',\n",
       " 'TopicCode': '',\n",
       " 'GradeSchemeCode': 'R13',\n",
       " 'GradeSubschemeCode': '',\n",
       " 'SectionCharges': [],\n",
       " 'ExcludeFromAddAuthorization': False,\n",
       " 'AttendanceTrackingType': 0,\n",
       " 'Synonym': '12895',\n",
       " 'ShowSpecialIcon': False,\n",
       " 'AvailabilityStatus': 2,\n",
       " 'CourseTypeCodes': None,\n",
       " 'InstructionalMethods': None}"
      ]
     },
     "execution_count": 32,
     "metadata": {},
     "output_type": "execute_result"
    }
   ],
   "source": [
    "section_details = get_section_details(req_session, res)\n",
    "section_details"
   ]
  },
  {
   "cell_type": "code",
   "execution_count": 33,
   "metadata": {},
   "outputs": [
    {
     "name": "stdout",
     "output_type": "stream",
     "text": [
      "Section name: CPS*3440*W02\n",
      "Section capacity: 24\n",
      "Available seats: 0\n"
     ]
    }
   ],
   "source": [
    "# Show the name, capacity and available seats of the section\n",
    "print('Section name: {}*{}'.format(section_details['CourseName'], section_details['Number']))\n",
    "print('Section capacity: {}'.format(section_details['Capacity']))\n",
    "print('Available seats: {}'.format(section_details['Available']))"
   ]
  },
  {
   "cell_type": "markdown",
   "metadata": {},
   "source": [
    "## Log off KeanWISE\n",
    "Perform the log off action to release the connection."
   ]
  },
  {
   "cell_type": "code",
   "execution_count": 34,
   "metadata": {},
   "outputs": [],
   "source": [
    "# Control the session to log off\n",
    "# Prevent the possible multi-logging problem\n",
    "def session_log_off(session:requests.Session, last_response:requests.Response, logoff_url:str=logoff_url) -> requests.Response:\n",
    "    # Generate request headers\n",
    "    headers = generate_headers(last_response, Host=True, Origin=False, Referer=True)\n",
    "    # Send logoff request\n",
    "    #   type: GET\n",
    "    res = session.get(logoff_url, headers=headers)\n",
    "    # Check response\n",
    "    check_status_code(res, 200, msg='Resquest logoff interface failed!')\n",
    "    # Check redirection\n",
    "    if res.url != login_url: raise Exception('Logoff failed! Please check the status.')\n",
    "    # Return the logged off session and page\n",
    "    return res"
   ]
  },
  {
   "cell_type": "code",
   "execution_count": 35,
   "metadata": {},
   "outputs": [
    {
     "name": "stderr",
     "output_type": "stream",
     "text": [
      "c:\\Users\\xht30\\AppData\\Local\\Programs\\Python\\Python310\\lib\\site-packages\\urllib3\\connectionpool.py:981: InsecureRequestWarning: Unverified HTTPS request is being made to host 'selfservice.kean.edu'. Adding certificate verification is strongly advised. See: https://urllib3.readthedocs.io/en/latest/advanced-usage.html#ssl-warnings\n",
      "  warnings.warn(\n",
      "c:\\Users\\xht30\\AppData\\Local\\Programs\\Python\\Python310\\lib\\site-packages\\urllib3\\connectionpool.py:981: InsecureRequestWarning: Unverified HTTPS request is being made to host 'selfservice.kean.edu'. Adding certificate verification is strongly advised. See: https://urllib3.readthedocs.io/en/latest/advanced-usage.html#ssl-warnings\n",
      "  warnings.warn(\n"
     ]
    }
   ],
   "source": [
    "# Log off\n",
    "res = session_log_off(req_session, res)"
   ]
  }
 ],
 "metadata": {
  "kernelspec": {
   "display_name": "Python 3.10.4 64-bit",
   "language": "python",
   "name": "python3"
  },
  "language_info": {
   "codemirror_mode": {
    "name": "ipython",
    "version": 3
   },
   "file_extension": ".py",
   "mimetype": "text/x-python",
   "name": "python",
   "nbconvert_exporter": "python",
   "pygments_lexer": "ipython3",
   "version": "3.10.4"
  },
  "orig_nbformat": 4,
  "vscode": {
   "interpreter": {
    "hash": "048411921336b168c51522b0967794cf9390636b403427f5182f32563c6c9adb"
   }
  }
 },
 "nbformat": 4,
 "nbformat_minor": 2
}
